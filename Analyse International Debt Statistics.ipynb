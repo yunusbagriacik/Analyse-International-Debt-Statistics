{
 "cells": [
  {
   "cell_type": "markdown",
   "id": "9041cd2e-a5a6-44dd-acd9-4daae006c067",
   "metadata": {},
   "source": [
    "It's not that we humans only take debts to manage our necessities. A country may also take debt to manage its economy. For example, infrastructure spending is one costly ingredient required for a country's citizens to lead comfortable lives. [The World Bank](https://www.worldbank.org) is the organization that provides debt to countries.\n",
    "\n",
    "In this notebook, we are going to analyze international debt data collected by The World Bank. The dataset contains information about the amount of debt (in USD) owed by developing countries across several categories. We are going to find the answers to questions like: \n",
    "\n",
    "- What is the total amount of debt that is owed by the countries listed in the dataset?\n",
    "- Which country owes the maximum amount of debt and what does that amount look like?\n",
    "- What is the average amount of debt owed by countries across different debt indicators?\n",
    "\n",
    "Below is a basic schema of the database you will be working with:\n",
    "\n",
    "\n",
    "| Column | Definition | Data Type |\n",
    "|-|-|-|\n",
    "|country_name|Name of the country|`varchar`|\n",
    "|country_code|Code representing the country|`varchar`|\n",
    "|indicator_name|Description of the debt indicator|`varchar`|\n",
    "|indicator_code|Code representing the debt indicator|`varchar`|\n",
    "|debt|Value of the debt indicator for the given country (in current US dollars)|`float`|\n",
    "\n",
    "You will execute SQL queries to answer six questions, as listed in the instructions."
   ]
  },
  {
   "cell_type": "code",
   "execution_count": 29,
   "id": "63ae86de-f519-4736-a9ab-886f71129cf3",
   "metadata": {
    "customType": "sql",
    "dataFrameVariableName": "num_distinct_countries",
    "executionCancelledAt": null,
    "executionTime": 1017,
    "lastExecutedAt": 1714419474366,
    "lastExecutedByKernel": "7c4dee3e-3608-4f93-b68c-3043d50e1789",
    "lastScheduledRunId": null,
    "lastSuccessfullyExecutedCode": "--num_distinct_countries\nSELECT COUNT(DISTINCT(country_name)) AS total_distinct_countries\nFROM international_debt AS num_distinct_countries",
    "outputsMetadata": {
     "0": {
      "height": 95,
      "type": "dataFrame"
     }
    },
    "sqlCellMode": "dataFrame",
    "sqlSource": {
     "integrationId": "89e17161-a224-4a8a-846b-0adc0fe7a4b1",
     "integrationType": "postgresql",
     "type": "integration"
    }
   },
   "outputs": [
    {
     "@datacamp/metadata": {
      "executedQuery": "--num_distinct_countries\nSELECT COUNT(DISTINCT(country_name)) AS total_distinct_countries\nFROM international_debt AS num_distinct_countries",
      "executedQueryParameters": []
     },
     "data": {
      "application/com.datacamp.data-table.v2+json": {
       "table": {
        "data": {
         "index": [
          0
         ],
         "total_distinct_countries": [
          124
         ]
        },
        "schema": {
         "fields": [
          {
           "name": "index",
           "type": "integer"
          },
          {
           "name": "total_distinct_countries",
           "type": "integer"
          }
         ],
         "pandas_version": "1.4.0",
         "primaryKey": [
          "index"
         ]
        }
       },
       "total_rows": 1,
       "truncation_type": null
      },
      "text/html": [
       "<div>\n",
       "<style scoped>\n",
       "    .dataframe tbody tr th:only-of-type {\n",
       "        vertical-align: middle;\n",
       "    }\n",
       "\n",
       "    .dataframe tbody tr th {\n",
       "        vertical-align: top;\n",
       "    }\n",
       "\n",
       "    .dataframe thead th {\n",
       "        text-align: right;\n",
       "    }\n",
       "</style>\n",
       "<table border=\"1\" class=\"dataframe\">\n",
       "  <thead>\n",
       "    <tr style=\"text-align: right;\">\n",
       "      <th></th>\n",
       "      <th>total_distinct_countries</th>\n",
       "    </tr>\n",
       "  </thead>\n",
       "  <tbody>\n",
       "    <tr>\n",
       "      <th>0</th>\n",
       "      <td>124</td>\n",
       "    </tr>\n",
       "  </tbody>\n",
       "</table>\n",
       "</div>"
      ],
      "text/plain": [
       "   total_distinct_countries\n",
       "0                       124"
      ]
     },
     "execution_count": 29,
     "metadata": {},
     "output_type": "execute_result"
    }
   ],
   "source": [
    "--num_distinct_countries\n",
    "SELECT COUNT(DISTINCT(country_name)) AS total_distinct_countries\n",
    "FROM international_debt AS num_distinct_countries"
   ]
  },
  {
   "cell_type": "code",
   "execution_count": 30,
   "id": "52e80fbc-fac4-4456-8c42-c958f79dc8bc",
   "metadata": {
    "customType": "sql",
    "dataFrameVariableName": "distinct_debt_indicators",
    "executionCancelledAt": null,
    "executionTime": 1486,
    "lastExecutedAt": 1714419475852,
    "lastExecutedByKernel": "7c4dee3e-3608-4f93-b68c-3043d50e1789",
    "lastScheduledRunId": null,
    "lastSuccessfullyExecutedCode": "--distinct_debt_indicators\nSELECT DISTINCT(indicator_name) AS distinct_debt_indicators\nFROM international_debt AS distinct_debt_indicators",
    "outputsMetadata": {
     "0": {
      "height": 318,
      "type": "dataFrame"
     }
    },
    "sqlCellMode": "dataFrame",
    "sqlSource": {
     "integrationId": "89e17161-a224-4a8a-846b-0adc0fe7a4b1",
     "integrationType": "postgresql",
     "type": "integration"
    }
   },
   "outputs": [
    {
     "@datacamp/metadata": {
      "executedQuery": "--distinct_debt_indicators\nSELECT DISTINCT(indicator_name) AS distinct_debt_indicators\nFROM international_debt AS distinct_debt_indicators",
      "executedQueryParameters": []
     },
     "data": {
      "application/com.datacamp.data-table.v2+json": {
       "table": {
        "data": {
         "distinct_debt_indicators": [
          "Principal repayments on external debt, private nonguaranteed (PNG) (AMT, current US$)",
          "PPG, bonds (INT, current US$)",
          "Interest payments on external debt, long-term (INT, current US$)",
          "PPG, multilateral (INT, current US$)",
          "PPG, commercial banks (AMT, current US$)",
          "PPG, official creditors (AMT, current US$)",
          "PPG, bonds (AMT, current US$)",
          "Interest payments on external debt, private nonguaranteed (PNG) (INT, current US$)",
          "PPG, bilateral (AMT, current US$)",
          "PPG, private creditors (INT, current US$)",
          "PPG, other private creditors (DIS, current US$)",
          "PPG, official creditors (INT, current US$)",
          "Disbursements on external debt, long-term (DIS, current US$)",
          "PPG, multilateral (DIS, current US$)",
          "PPG, bilateral (INT, current US$)",
          "PPG, official creditors (DIS, current US$)",
          "Principal repayments on external debt, long-term (AMT, current US$)",
          "PPG, bilateral (DIS, current US$)",
          "PPG, private creditors (AMT, current US$)",
          "PPG, commercial banks (DIS, current US$)",
          "PPG, other private creditors (INT, current US$)",
          "PPG, multilateral (AMT, current US$)",
          "PPG, commercial banks (INT, current US$)",
          "PPG, private creditors (DIS, current US$)",
          "PPG, other private creditors (AMT, current US$)"
         ],
         "index": [
          0,
          1,
          2,
          3,
          4,
          5,
          6,
          7,
          8,
          9,
          10,
          11,
          12,
          13,
          14,
          15,
          16,
          17,
          18,
          19,
          20,
          21,
          22,
          23,
          24
         ]
        },
        "schema": {
         "fields": [
          {
           "name": "index",
           "type": "integer"
          },
          {
           "name": "distinct_debt_indicators",
           "type": "string"
          }
         ],
         "pandas_version": "1.4.0",
         "primaryKey": [
          "index"
         ]
        }
       },
       "total_rows": 25,
       "truncation_type": null
      },
      "text/html": [
       "<div>\n",
       "<style scoped>\n",
       "    .dataframe tbody tr th:only-of-type {\n",
       "        vertical-align: middle;\n",
       "    }\n",
       "\n",
       "    .dataframe tbody tr th {\n",
       "        vertical-align: top;\n",
       "    }\n",
       "\n",
       "    .dataframe thead th {\n",
       "        text-align: right;\n",
       "    }\n",
       "</style>\n",
       "<table border=\"1\" class=\"dataframe\">\n",
       "  <thead>\n",
       "    <tr style=\"text-align: right;\">\n",
       "      <th></th>\n",
       "      <th>distinct_debt_indicators</th>\n",
       "    </tr>\n",
       "  </thead>\n",
       "  <tbody>\n",
       "    <tr>\n",
       "      <th>0</th>\n",
       "      <td>Principal repayments on external debt, private...</td>\n",
       "    </tr>\n",
       "    <tr>\n",
       "      <th>1</th>\n",
       "      <td>PPG, bonds (INT, current US$)</td>\n",
       "    </tr>\n",
       "    <tr>\n",
       "      <th>2</th>\n",
       "      <td>Interest payments on external debt, long-term ...</td>\n",
       "    </tr>\n",
       "    <tr>\n",
       "      <th>3</th>\n",
       "      <td>PPG, multilateral (INT, current US$)</td>\n",
       "    </tr>\n",
       "    <tr>\n",
       "      <th>4</th>\n",
       "      <td>PPG, commercial banks (AMT, current US$)</td>\n",
       "    </tr>\n",
       "    <tr>\n",
       "      <th>5</th>\n",
       "      <td>PPG, official creditors (AMT, current US$)</td>\n",
       "    </tr>\n",
       "    <tr>\n",
       "      <th>6</th>\n",
       "      <td>PPG, bonds (AMT, current US$)</td>\n",
       "    </tr>\n",
       "    <tr>\n",
       "      <th>7</th>\n",
       "      <td>Interest payments on external debt, private no...</td>\n",
       "    </tr>\n",
       "    <tr>\n",
       "      <th>8</th>\n",
       "      <td>PPG, bilateral (AMT, current US$)</td>\n",
       "    </tr>\n",
       "    <tr>\n",
       "      <th>9</th>\n",
       "      <td>PPG, private creditors (INT, current US$)</td>\n",
       "    </tr>\n",
       "    <tr>\n",
       "      <th>10</th>\n",
       "      <td>PPG, other private creditors (DIS, current US$)</td>\n",
       "    </tr>\n",
       "    <tr>\n",
       "      <th>11</th>\n",
       "      <td>PPG, official creditors (INT, current US$)</td>\n",
       "    </tr>\n",
       "    <tr>\n",
       "      <th>12</th>\n",
       "      <td>Disbursements on external debt, long-term (DIS...</td>\n",
       "    </tr>\n",
       "    <tr>\n",
       "      <th>13</th>\n",
       "      <td>PPG, multilateral (DIS, current US$)</td>\n",
       "    </tr>\n",
       "    <tr>\n",
       "      <th>14</th>\n",
       "      <td>PPG, bilateral (INT, current US$)</td>\n",
       "    </tr>\n",
       "    <tr>\n",
       "      <th>15</th>\n",
       "      <td>PPG, official creditors (DIS, current US$)</td>\n",
       "    </tr>\n",
       "    <tr>\n",
       "      <th>16</th>\n",
       "      <td>Principal repayments on external debt, long-te...</td>\n",
       "    </tr>\n",
       "    <tr>\n",
       "      <th>17</th>\n",
       "      <td>PPG, bilateral (DIS, current US$)</td>\n",
       "    </tr>\n",
       "    <tr>\n",
       "      <th>18</th>\n",
       "      <td>PPG, private creditors (AMT, current US$)</td>\n",
       "    </tr>\n",
       "    <tr>\n",
       "      <th>19</th>\n",
       "      <td>PPG, commercial banks (DIS, current US$)</td>\n",
       "    </tr>\n",
       "    <tr>\n",
       "      <th>20</th>\n",
       "      <td>PPG, other private creditors (INT, current US$)</td>\n",
       "    </tr>\n",
       "    <tr>\n",
       "      <th>21</th>\n",
       "      <td>PPG, multilateral (AMT, current US$)</td>\n",
       "    </tr>\n",
       "    <tr>\n",
       "      <th>22</th>\n",
       "      <td>PPG, commercial banks (INT, current US$)</td>\n",
       "    </tr>\n",
       "    <tr>\n",
       "      <th>23</th>\n",
       "      <td>PPG, private creditors (DIS, current US$)</td>\n",
       "    </tr>\n",
       "    <tr>\n",
       "      <th>24</th>\n",
       "      <td>PPG, other private creditors (AMT, current US$)</td>\n",
       "    </tr>\n",
       "  </tbody>\n",
       "</table>\n",
       "</div>"
      ],
      "text/plain": [
       "                             distinct_debt_indicators\n",
       "0   Principal repayments on external debt, private...\n",
       "1                       PPG, bonds (INT, current US$)\n",
       "2   Interest payments on external debt, long-term ...\n",
       "3                PPG, multilateral (INT, current US$)\n",
       "4            PPG, commercial banks (AMT, current US$)\n",
       "5          PPG, official creditors (AMT, current US$)\n",
       "6                       PPG, bonds (AMT, current US$)\n",
       "7   Interest payments on external debt, private no...\n",
       "8                   PPG, bilateral (AMT, current US$)\n",
       "9           PPG, private creditors (INT, current US$)\n",
       "10    PPG, other private creditors (DIS, current US$)\n",
       "11         PPG, official creditors (INT, current US$)\n",
       "12  Disbursements on external debt, long-term (DIS...\n",
       "13               PPG, multilateral (DIS, current US$)\n",
       "14                  PPG, bilateral (INT, current US$)\n",
       "15         PPG, official creditors (DIS, current US$)\n",
       "16  Principal repayments on external debt, long-te...\n",
       "17                  PPG, bilateral (DIS, current US$)\n",
       "18          PPG, private creditors (AMT, current US$)\n",
       "19           PPG, commercial banks (DIS, current US$)\n",
       "20    PPG, other private creditors (INT, current US$)\n",
       "21               PPG, multilateral (AMT, current US$)\n",
       "22           PPG, commercial banks (INT, current US$)\n",
       "23          PPG, private creditors (DIS, current US$)\n",
       "24    PPG, other private creditors (AMT, current US$)"
      ]
     },
     "execution_count": 30,
     "metadata": {},
     "output_type": "execute_result"
    }
   ],
   "source": [
    "--distinct_debt_indicators\n",
    "SELECT DISTINCT(indicator_name) AS distinct_debt_indicators\n",
    "FROM international_debt AS distinct_debt_indicators"
   ]
  },
  {
   "cell_type": "code",
   "execution_count": 31,
   "id": "0b55b1e1-9241-40c0-8da9-87ba27a6105b",
   "metadata": {
    "customType": "sql",
    "dataFrameVariableName": "total_debt",
    "executionCancelledAt": null,
    "executionTime": 849,
    "lastExecutedAt": 1714419476701,
    "lastExecutedByKernel": "7c4dee3e-3608-4f93-b68c-3043d50e1789",
    "lastScheduledRunId": null,
    "lastSuccessfullyExecutedCode": "--total_debt\nSELECT ROUND(SUM(debt),2) AS total_debt\nFROM international_debt AS total_debt;",
    "outputsMetadata": {
     "0": {
      "height": 95,
      "type": "dataFrame"
     }
    },
    "sqlCellMode": "dataFrame",
    "sqlSource": {
     "integrationId": "89e17161-a224-4a8a-846b-0adc0fe7a4b1",
     "integrationType": "postgresql",
     "type": "integration"
    }
   },
   "outputs": [
    {
     "@datacamp/metadata": {
      "executedQuery": "--total_debt\nSELECT ROUND(SUM(debt),2) AS total_debt\nFROM international_debt AS total_debt;",
      "executedQueryParameters": []
     },
     "data": {
      "application/com.datacamp.data-table.v2+json": {
       "table": {
        "data": {
         "index": [
          0
         ],
         "total_debt": [
          3079734487675.8
         ]
        },
        "schema": {
         "fields": [
          {
           "name": "index",
           "type": "integer"
          },
          {
           "name": "total_debt",
           "type": "number"
          }
         ],
         "pandas_version": "1.4.0",
         "primaryKey": [
          "index"
         ]
        }
       },
       "total_rows": 1,
       "truncation_type": null
      },
      "text/html": [
       "<div>\n",
       "<style scoped>\n",
       "    .dataframe tbody tr th:only-of-type {\n",
       "        vertical-align: middle;\n",
       "    }\n",
       "\n",
       "    .dataframe tbody tr th {\n",
       "        vertical-align: top;\n",
       "    }\n",
       "\n",
       "    .dataframe thead th {\n",
       "        text-align: right;\n",
       "    }\n",
       "</style>\n",
       "<table border=\"1\" class=\"dataframe\">\n",
       "  <thead>\n",
       "    <tr style=\"text-align: right;\">\n",
       "      <th></th>\n",
       "      <th>total_debt</th>\n",
       "    </tr>\n",
       "  </thead>\n",
       "  <tbody>\n",
       "    <tr>\n",
       "      <th>0</th>\n",
       "      <td>3.079734e+12</td>\n",
       "    </tr>\n",
       "  </tbody>\n",
       "</table>\n",
       "</div>"
      ],
      "text/plain": [
       "     total_debt\n",
       "0  3.079734e+12"
      ]
     },
     "execution_count": 31,
     "metadata": {},
     "output_type": "execute_result"
    }
   ],
   "source": [
    "--total_debt\n",
    "SELECT ROUND(SUM(debt),2) AS total_debt\n",
    "FROM international_debt AS total_debt;"
   ]
  },
  {
   "cell_type": "code",
   "execution_count": 32,
   "id": "8b8afd6e-b2eb-4637-a16f-8671b51e7317",
   "metadata": {
    "customType": "sql",
    "dataFrameVariableName": "highest_debt_country",
    "executionCancelledAt": null,
    "executionTime": 750,
    "lastExecutedAt": 1714419477451,
    "lastExecutedByKernel": "7c4dee3e-3608-4f93-b68c-3043d50e1789",
    "lastScheduledRunId": null,
    "lastSuccessfullyExecutedCode": "--highest_debt_country\nSELECT country_name, ROUND(SUM(debt),2) AS total_debt\nFROM international_debt AS highest_debt_country\nGROUP BY country_name ORDER BY total_debt DESC\nLIMIT 1;",
    "outputsMetadata": {
     "0": {
      "height": 95,
      "type": "dataFrame"
     }
    },
    "sqlCellMode": "dataFrame",
    "sqlSource": {
     "integrationId": "89e17161-a224-4a8a-846b-0adc0fe7a4b1",
     "integrationType": "postgresql",
     "type": "integration"
    }
   },
   "outputs": [
    {
     "@datacamp/metadata": {
      "executedQuery": "--highest_debt_country\nSELECT country_name, ROUND(SUM(debt),2) AS total_debt\nFROM international_debt AS highest_debt_country\nGROUP BY country_name ORDER BY total_debt DESC\nLIMIT 1;",
      "executedQueryParameters": []
     },
     "data": {
      "application/com.datacamp.data-table.v2+json": {
       "table": {
        "data": {
         "country_name": [
          "China"
         ],
         "index": [
          0
         ],
         "total_debt": [
          285793494734.2
         ]
        },
        "schema": {
         "fields": [
          {
           "name": "index",
           "type": "integer"
          },
          {
           "name": "country_name",
           "type": "string"
          },
          {
           "name": "total_debt",
           "type": "number"
          }
         ],
         "pandas_version": "1.4.0",
         "primaryKey": [
          "index"
         ]
        }
       },
       "total_rows": 1,
       "truncation_type": null
      },
      "text/html": [
       "<div>\n",
       "<style scoped>\n",
       "    .dataframe tbody tr th:only-of-type {\n",
       "        vertical-align: middle;\n",
       "    }\n",
       "\n",
       "    .dataframe tbody tr th {\n",
       "        vertical-align: top;\n",
       "    }\n",
       "\n",
       "    .dataframe thead th {\n",
       "        text-align: right;\n",
       "    }\n",
       "</style>\n",
       "<table border=\"1\" class=\"dataframe\">\n",
       "  <thead>\n",
       "    <tr style=\"text-align: right;\">\n",
       "      <th></th>\n",
       "      <th>country_name</th>\n",
       "      <th>total_debt</th>\n",
       "    </tr>\n",
       "  </thead>\n",
       "  <tbody>\n",
       "    <tr>\n",
       "      <th>0</th>\n",
       "      <td>China</td>\n",
       "      <td>2.857935e+11</td>\n",
       "    </tr>\n",
       "  </tbody>\n",
       "</table>\n",
       "</div>"
      ],
      "text/plain": [
       "  country_name    total_debt\n",
       "0        China  2.857935e+11"
      ]
     },
     "execution_count": 32,
     "metadata": {},
     "output_type": "execute_result"
    }
   ],
   "source": [
    "--highest_debt_country\n",
    "SELECT country_name, ROUND(SUM(debt),2) AS total_debt\n",
    "FROM international_debt AS highest_debt_country\n",
    "GROUP BY country_name ORDER BY total_debt DESC\n",
    "LIMIT 1;"
   ]
  },
  {
   "cell_type": "code",
   "execution_count": 33,
   "id": "8df97dba-cc21-4f06-87be-5912658f2f42",
   "metadata": {
    "customType": "sql",
    "dataFrameVariableName": "avg_debt_per_indicator",
    "executionCancelledAt": null,
    "executionTime": 915,
    "lastExecutedAt": 1714419478366,
    "lastExecutedByKernel": "7c4dee3e-3608-4f93-b68c-3043d50e1789",
    "lastScheduledRunId": null,
    "lastSuccessfullyExecutedCode": "--avg_debt_per_indicator\nSELECT indicator_code AS debt_indicator, indicator_name, ROUND(AVG(debt),2) AS average_debt\nFROM international_debt AS avg_debt_per_indicator\nGROUP BY indicator_code, indicator_name;",
    "outputsMetadata": {
     "0": {
      "height": 318,
      "type": "dataFrame"
     }
    },
    "sqlCellMode": "dataFrame",
    "sqlSource": {
     "integrationId": "89e17161-a224-4a8a-846b-0adc0fe7a4b1",
     "integrationType": "postgresql",
     "type": "integration"
    }
   },
   "outputs": [
    {
     "@datacamp/metadata": {
      "executedQuery": "--avg_debt_per_indicator\nSELECT indicator_code AS debt_indicator, indicator_name, ROUND(AVG(debt),2) AS average_debt\nFROM international_debt AS avg_debt_per_indicator\nGROUP BY indicator_code, indicator_name;",
      "executedQueryParameters": []
     },
     "data": {
      "application/com.datacamp.data-table.v2+json": {
       "table": {
        "data": {
         "average_debt": [
          719740180.09,
          1191187963.08,
          1644024067.65,
          1220410844.42,
          293305195.59,
          1082623947.65,
          839843678.62,
          311323264.69,
          136230719.25,
          804733376.6,
          34250651.24,
          1958983452.86,
          490062193.5,
          297677338.96,
          81135160.7,
          734868742.6,
          1223139290.4,
          5904868401.5,
          746888800.48,
          1803694101.96,
          712619634.66,
          156647613.06,
          164093285.61,
          2152041216.89,
          5161194333.81
         ],
         "debt_indicator": [
          "DT.INT.PRVT.CD",
          "DT.AMT.OFFT.CD",
          "DT.INT.DLXF.CD",
          "DT.INT.DPNG.CD",
          "DT.DIS.PCBK.CD",
          "DT.AMT.PBND.CD",
          "DT.DIS.MLAT.CD",
          "DT.DIS.PRVT.CD",
          "DT.INT.MLAT.CD",
          "DT.INT.PBND.CD",
          "DT.INT.PROP.CD",
          "DT.DIS.OFFT.CD",
          "DT.AMT.MLAT.CD",
          "DT.INT.OFFT.CD",
          "DT.DIS.PROP.CD",
          "DT.AMT.PCBK.CD",
          "DT.DIS.BLAT.CD",
          "DT.AMT.DLXF.CD",
          "DT.AMT.PROP.CD",
          "DT.AMT.PRVT.CD",
          "DT.AMT.BLAT.CD",
          "DT.INT.PCBK.CD",
          "DT.INT.BLAT.CD",
          "DT.DIS.DLXF.CD",
          "DT.AMT.DPNG.CD"
         ],
         "index": [
          0,
          1,
          2,
          3,
          4,
          5,
          6,
          7,
          8,
          9,
          10,
          11,
          12,
          13,
          14,
          15,
          16,
          17,
          18,
          19,
          20,
          21,
          22,
          23,
          24
         ],
         "indicator_name": [
          "PPG, private creditors (INT, current US$)",
          "PPG, official creditors (AMT, current US$)",
          "Interest payments on external debt, long-term (INT, current US$)",
          "Interest payments on external debt, private nonguaranteed (PNG) (INT, current US$)",
          "PPG, commercial banks (DIS, current US$)",
          "PPG, bonds (AMT, current US$)",
          "PPG, multilateral (DIS, current US$)",
          "PPG, private creditors (DIS, current US$)",
          "PPG, multilateral (INT, current US$)",
          "PPG, bonds (INT, current US$)",
          "PPG, other private creditors (INT, current US$)",
          "PPG, official creditors (DIS, current US$)",
          "PPG, multilateral (AMT, current US$)",
          "PPG, official creditors (INT, current US$)",
          "PPG, other private creditors (DIS, current US$)",
          "PPG, commercial banks (AMT, current US$)",
          "PPG, bilateral (DIS, current US$)",
          "Principal repayments on external debt, long-term (AMT, current US$)",
          "PPG, other private creditors (AMT, current US$)",
          "PPG, private creditors (AMT, current US$)",
          "PPG, bilateral (AMT, current US$)",
          "PPG, commercial banks (INT, current US$)",
          "PPG, bilateral (INT, current US$)",
          "Disbursements on external debt, long-term (DIS, current US$)",
          "Principal repayments on external debt, private nonguaranteed (PNG) (AMT, current US$)"
         ]
        },
        "schema": {
         "fields": [
          {
           "name": "index",
           "type": "integer"
          },
          {
           "name": "debt_indicator",
           "type": "string"
          },
          {
           "name": "indicator_name",
           "type": "string"
          },
          {
           "name": "average_debt",
           "type": "number"
          }
         ],
         "pandas_version": "1.4.0",
         "primaryKey": [
          "index"
         ]
        }
       },
       "total_rows": 25,
       "truncation_type": null
      },
      "text/html": [
       "<div>\n",
       "<style scoped>\n",
       "    .dataframe tbody tr th:only-of-type {\n",
       "        vertical-align: middle;\n",
       "    }\n",
       "\n",
       "    .dataframe tbody tr th {\n",
       "        vertical-align: top;\n",
       "    }\n",
       "\n",
       "    .dataframe thead th {\n",
       "        text-align: right;\n",
       "    }\n",
       "</style>\n",
       "<table border=\"1\" class=\"dataframe\">\n",
       "  <thead>\n",
       "    <tr style=\"text-align: right;\">\n",
       "      <th></th>\n",
       "      <th>debt_indicator</th>\n",
       "      <th>indicator_name</th>\n",
       "      <th>average_debt</th>\n",
       "    </tr>\n",
       "  </thead>\n",
       "  <tbody>\n",
       "    <tr>\n",
       "      <th>0</th>\n",
       "      <td>DT.INT.PRVT.CD</td>\n",
       "      <td>PPG, private creditors (INT, current US$)</td>\n",
       "      <td>7.197402e+08</td>\n",
       "    </tr>\n",
       "    <tr>\n",
       "      <th>1</th>\n",
       "      <td>DT.AMT.OFFT.CD</td>\n",
       "      <td>PPG, official creditors (AMT, current US$)</td>\n",
       "      <td>1.191188e+09</td>\n",
       "    </tr>\n",
       "    <tr>\n",
       "      <th>2</th>\n",
       "      <td>DT.INT.DLXF.CD</td>\n",
       "      <td>Interest payments on external debt, long-term ...</td>\n",
       "      <td>1.644024e+09</td>\n",
       "    </tr>\n",
       "    <tr>\n",
       "      <th>3</th>\n",
       "      <td>DT.INT.DPNG.CD</td>\n",
       "      <td>Interest payments on external debt, private no...</td>\n",
       "      <td>1.220411e+09</td>\n",
       "    </tr>\n",
       "    <tr>\n",
       "      <th>4</th>\n",
       "      <td>DT.DIS.PCBK.CD</td>\n",
       "      <td>PPG, commercial banks (DIS, current US$)</td>\n",
       "      <td>2.933052e+08</td>\n",
       "    </tr>\n",
       "    <tr>\n",
       "      <th>5</th>\n",
       "      <td>DT.AMT.PBND.CD</td>\n",
       "      <td>PPG, bonds (AMT, current US$)</td>\n",
       "      <td>1.082624e+09</td>\n",
       "    </tr>\n",
       "    <tr>\n",
       "      <th>6</th>\n",
       "      <td>DT.DIS.MLAT.CD</td>\n",
       "      <td>PPG, multilateral (DIS, current US$)</td>\n",
       "      <td>8.398437e+08</td>\n",
       "    </tr>\n",
       "    <tr>\n",
       "      <th>7</th>\n",
       "      <td>DT.DIS.PRVT.CD</td>\n",
       "      <td>PPG, private creditors (DIS, current US$)</td>\n",
       "      <td>3.113233e+08</td>\n",
       "    </tr>\n",
       "    <tr>\n",
       "      <th>8</th>\n",
       "      <td>DT.INT.MLAT.CD</td>\n",
       "      <td>PPG, multilateral (INT, current US$)</td>\n",
       "      <td>1.362307e+08</td>\n",
       "    </tr>\n",
       "    <tr>\n",
       "      <th>9</th>\n",
       "      <td>DT.INT.PBND.CD</td>\n",
       "      <td>PPG, bonds (INT, current US$)</td>\n",
       "      <td>8.047334e+08</td>\n",
       "    </tr>\n",
       "    <tr>\n",
       "      <th>10</th>\n",
       "      <td>DT.INT.PROP.CD</td>\n",
       "      <td>PPG, other private creditors (INT, current US$)</td>\n",
       "      <td>3.425065e+07</td>\n",
       "    </tr>\n",
       "    <tr>\n",
       "      <th>11</th>\n",
       "      <td>DT.DIS.OFFT.CD</td>\n",
       "      <td>PPG, official creditors (DIS, current US$)</td>\n",
       "      <td>1.958983e+09</td>\n",
       "    </tr>\n",
       "    <tr>\n",
       "      <th>12</th>\n",
       "      <td>DT.AMT.MLAT.CD</td>\n",
       "      <td>PPG, multilateral (AMT, current US$)</td>\n",
       "      <td>4.900622e+08</td>\n",
       "    </tr>\n",
       "    <tr>\n",
       "      <th>13</th>\n",
       "      <td>DT.INT.OFFT.CD</td>\n",
       "      <td>PPG, official creditors (INT, current US$)</td>\n",
       "      <td>2.976773e+08</td>\n",
       "    </tr>\n",
       "    <tr>\n",
       "      <th>14</th>\n",
       "      <td>DT.DIS.PROP.CD</td>\n",
       "      <td>PPG, other private creditors (DIS, current US$)</td>\n",
       "      <td>8.113516e+07</td>\n",
       "    </tr>\n",
       "    <tr>\n",
       "      <th>15</th>\n",
       "      <td>DT.AMT.PCBK.CD</td>\n",
       "      <td>PPG, commercial banks (AMT, current US$)</td>\n",
       "      <td>7.348687e+08</td>\n",
       "    </tr>\n",
       "    <tr>\n",
       "      <th>16</th>\n",
       "      <td>DT.DIS.BLAT.CD</td>\n",
       "      <td>PPG, bilateral (DIS, current US$)</td>\n",
       "      <td>1.223139e+09</td>\n",
       "    </tr>\n",
       "    <tr>\n",
       "      <th>17</th>\n",
       "      <td>DT.AMT.DLXF.CD</td>\n",
       "      <td>Principal repayments on external debt, long-te...</td>\n",
       "      <td>5.904868e+09</td>\n",
       "    </tr>\n",
       "    <tr>\n",
       "      <th>18</th>\n",
       "      <td>DT.AMT.PROP.CD</td>\n",
       "      <td>PPG, other private creditors (AMT, current US$)</td>\n",
       "      <td>7.468888e+08</td>\n",
       "    </tr>\n",
       "    <tr>\n",
       "      <th>19</th>\n",
       "      <td>DT.AMT.PRVT.CD</td>\n",
       "      <td>PPG, private creditors (AMT, current US$)</td>\n",
       "      <td>1.803694e+09</td>\n",
       "    </tr>\n",
       "    <tr>\n",
       "      <th>20</th>\n",
       "      <td>DT.AMT.BLAT.CD</td>\n",
       "      <td>PPG, bilateral (AMT, current US$)</td>\n",
       "      <td>7.126196e+08</td>\n",
       "    </tr>\n",
       "    <tr>\n",
       "      <th>21</th>\n",
       "      <td>DT.INT.PCBK.CD</td>\n",
       "      <td>PPG, commercial banks (INT, current US$)</td>\n",
       "      <td>1.566476e+08</td>\n",
       "    </tr>\n",
       "    <tr>\n",
       "      <th>22</th>\n",
       "      <td>DT.INT.BLAT.CD</td>\n",
       "      <td>PPG, bilateral (INT, current US$)</td>\n",
       "      <td>1.640933e+08</td>\n",
       "    </tr>\n",
       "    <tr>\n",
       "      <th>23</th>\n",
       "      <td>DT.DIS.DLXF.CD</td>\n",
       "      <td>Disbursements on external debt, long-term (DIS...</td>\n",
       "      <td>2.152041e+09</td>\n",
       "    </tr>\n",
       "    <tr>\n",
       "      <th>24</th>\n",
       "      <td>DT.AMT.DPNG.CD</td>\n",
       "      <td>Principal repayments on external debt, private...</td>\n",
       "      <td>5.161194e+09</td>\n",
       "    </tr>\n",
       "  </tbody>\n",
       "</table>\n",
       "</div>"
      ],
      "text/plain": [
       "    debt_indicator  ...  average_debt\n",
       "0   DT.INT.PRVT.CD  ...  7.197402e+08\n",
       "1   DT.AMT.OFFT.CD  ...  1.191188e+09\n",
       "2   DT.INT.DLXF.CD  ...  1.644024e+09\n",
       "3   DT.INT.DPNG.CD  ...  1.220411e+09\n",
       "4   DT.DIS.PCBK.CD  ...  2.933052e+08\n",
       "5   DT.AMT.PBND.CD  ...  1.082624e+09\n",
       "6   DT.DIS.MLAT.CD  ...  8.398437e+08\n",
       "7   DT.DIS.PRVT.CD  ...  3.113233e+08\n",
       "8   DT.INT.MLAT.CD  ...  1.362307e+08\n",
       "9   DT.INT.PBND.CD  ...  8.047334e+08\n",
       "10  DT.INT.PROP.CD  ...  3.425065e+07\n",
       "11  DT.DIS.OFFT.CD  ...  1.958983e+09\n",
       "12  DT.AMT.MLAT.CD  ...  4.900622e+08\n",
       "13  DT.INT.OFFT.CD  ...  2.976773e+08\n",
       "14  DT.DIS.PROP.CD  ...  8.113516e+07\n",
       "15  DT.AMT.PCBK.CD  ...  7.348687e+08\n",
       "16  DT.DIS.BLAT.CD  ...  1.223139e+09\n",
       "17  DT.AMT.DLXF.CD  ...  5.904868e+09\n",
       "18  DT.AMT.PROP.CD  ...  7.468888e+08\n",
       "19  DT.AMT.PRVT.CD  ...  1.803694e+09\n",
       "20  DT.AMT.BLAT.CD  ...  7.126196e+08\n",
       "21  DT.INT.PCBK.CD  ...  1.566476e+08\n",
       "22  DT.INT.BLAT.CD  ...  1.640933e+08\n",
       "23  DT.DIS.DLXF.CD  ...  2.152041e+09\n",
       "24  DT.AMT.DPNG.CD  ...  5.161194e+09\n",
       "\n",
       "[25 rows x 3 columns]"
      ]
     },
     "execution_count": 33,
     "metadata": {},
     "output_type": "execute_result"
    }
   ],
   "source": [
    "--avg_debt_per_indicator\n",
    "SELECT indicator_code AS debt_indicator, indicator_name, ROUND(AVG(debt),2) AS average_debt\n",
    "FROM international_debt AS avg_debt_per_indicator\n",
    "GROUP BY indicator_code, indicator_name;"
   ]
  },
  {
   "cell_type": "code",
   "execution_count": 34,
   "id": "1cdf2f88-7aa0-4702-8422-84098b742be4",
   "metadata": {
    "customType": "sql",
    "dataFrameVariableName": "lowest_principal_repayment",
    "executionCancelledAt": null,
    "executionTime": 871,
    "lastExecutedAt": 1714419479237,
    "lastExecutedByKernel": "7c4dee3e-3608-4f93-b68c-3043d50e1789",
    "lastScheduledRunId": null,
    "lastSuccessfullyExecutedCode": "SELECT country_name, indicator_name, MIN(debt) AS lowest_repayment\nFROM international_debt AS lowest_principal_repayment \nWHERE indicator_code='DT.AMT.DLXF.CD'\nGROUP BY country_name, indicator_name\nORDER BY lowest_repayment ASC\nLIMIT 1;",
    "outputsMetadata": {
     "0": {
      "height": 95,
      "type": "dataFrame"
     }
    },
    "sqlCellMode": "dataFrame",
    "sqlSource": {
     "integrationId": "89e17161-a224-4a8a-846b-0adc0fe7a4b1",
     "integrationType": "postgresql",
     "type": "integration"
    }
   },
   "outputs": [
    {
     "@datacamp/metadata": {
      "executedQuery": "SELECT country_name, indicator_name, MIN(debt) AS lowest_repayment\nFROM international_debt AS lowest_principal_repayment \nWHERE indicator_code='DT.AMT.DLXF.CD'\nGROUP BY country_name, indicator_name\nORDER BY lowest_repayment ASC\nLIMIT 1;",
      "executedQueryParameters": []
     },
     "data": {
      "application/com.datacamp.data-table.v2+json": {
       "table": {
        "data": {
         "country_name": [
          "Timor-Leste"
         ],
         "index": [
          0
         ],
         "indicator_name": [
          "Principal repayments on external debt, long-term (AMT, current US$)"
         ],
         "lowest_repayment": [
          825000
         ]
        },
        "schema": {
         "fields": [
          {
           "name": "index",
           "type": "integer"
          },
          {
           "name": "country_name",
           "type": "string"
          },
          {
           "name": "indicator_name",
           "type": "string"
          },
          {
           "name": "lowest_repayment",
           "type": "integer"
          }
         ],
         "pandas_version": "1.4.0",
         "primaryKey": [
          "index"
         ]
        }
       },
       "total_rows": 1,
       "truncation_type": null
      },
      "text/html": [
       "<div>\n",
       "<style scoped>\n",
       "    .dataframe tbody tr th:only-of-type {\n",
       "        vertical-align: middle;\n",
       "    }\n",
       "\n",
       "    .dataframe tbody tr th {\n",
       "        vertical-align: top;\n",
       "    }\n",
       "\n",
       "    .dataframe thead th {\n",
       "        text-align: right;\n",
       "    }\n",
       "</style>\n",
       "<table border=\"1\" class=\"dataframe\">\n",
       "  <thead>\n",
       "    <tr style=\"text-align: right;\">\n",
       "      <th></th>\n",
       "      <th>country_name</th>\n",
       "      <th>indicator_name</th>\n",
       "      <th>lowest_repayment</th>\n",
       "    </tr>\n",
       "  </thead>\n",
       "  <tbody>\n",
       "    <tr>\n",
       "      <th>0</th>\n",
       "      <td>Timor-Leste</td>\n",
       "      <td>Principal repayments on external debt, long-te...</td>\n",
       "      <td>825000</td>\n",
       "    </tr>\n",
       "  </tbody>\n",
       "</table>\n",
       "</div>"
      ],
      "text/plain": [
       "  country_name  ... lowest_repayment\n",
       "0  Timor-Leste  ...           825000\n",
       "\n",
       "[1 rows x 3 columns]"
      ]
     },
     "execution_count": 34,
     "metadata": {},
     "output_type": "execute_result"
    }
   ],
   "source": [
    "SELECT country_name, indicator_name, MIN(debt) AS lowest_repayment\n",
    "FROM international_debt AS lowest_principal_repayment \n",
    "WHERE indicator_code='DT.AMT.DLXF.CD'\n",
    "GROUP BY country_name, indicator_name\n",
    "ORDER BY lowest_repayment ASC\n",
    "LIMIT 1;"
   ]
  }
 ],
 "metadata": {
  "colab": {
   "name": "Welcome to DataCamp Workspaces.ipynb",
   "provenance": []
  },
  "kernelspec": {
   "display_name": "Python 3 (ipykernel)",
   "language": "python",
   "name": "python3"
  },
  "language_info": {
   "codemirror_mode": {
    "name": "ipython",
    "version": 3
   },
   "file_extension": ".py",
   "mimetype": "text/x-python",
   "name": "python",
   "nbconvert_exporter": "python",
   "pygments_lexer": "ipython3",
   "version": "3.11.7"
  }
 },
 "nbformat": 4,
 "nbformat_minor": 5
}
